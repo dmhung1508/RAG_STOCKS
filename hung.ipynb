{
 "cells": [
  {
   "cell_type": "code",
   "execution_count": 1,
   "metadata": {},
   "outputs": [
    {
     "name": "stderr",
     "output_type": "stream",
     "text": [
      "/home/inresai/anaconda3/envs/8am_chat/lib/python3.10/site-packages/sentence_transformers/cross_encoder/CrossEncoder.py:13: TqdmWarning: IProgress not found. Please update jupyter and ipywidgets. See https://ipywidgets.readthedocs.io/en/stable/user_install.html\n",
      "  from tqdm.autonotebook import tqdm, trange\n"
     ]
    }
   ],
   "source": [
    "\n",
    "from langchain_huggingface import HuggingFaceEmbeddings\n",
    "from langchain_chroma import Chroma\n",
    "from uuid import uuid4\n",
    "from tqdm import tqdm\n",
    "from langchain_core.documents import Document\n",
    "\n",
    "\n",
    "\n",
    "embeddings = HuggingFaceEmbeddings(\n",
    "    model_name=\"hiieu/halong_embedding\"\n",
    ")\n",
    "vector_store = Chroma(\n",
    "    collection_name=\"stocks_news\",\n",
    "    embedding_function=embeddings,\n",
    "    persist_directory=\"./chroma_langchain_db\",  # Where to save data locally, remove if not necessary\n",
    ")\n"
   ]
  },
  {
   "cell_type": "code",
   "execution_count": 2,
   "metadata": {},
   "outputs": [
    {
     "name": "stdout",
     "output_type": "stream",
     "text": [
      "{'date': '2024-10-26', 'source': 'thoibaonganhang.vn', 'source_link': 'https://thoibaonganhang.vn/dai-bieu-quoc-hoi-lo-lang-khi-doanh-nghiep-con-gap-nhieu-kho-khan-157134.html'} Bài báo này cho biết rằng, mặc dù kinh tế Việt Nam đã đạt được nhiều kết quả quan trọng trong năm 2024, nhưng vẫn còn nhiều khó khăn và bất cập. Tăng trưởng kinh tế quý III đạt 7,4%, cả 9 tháng đầu năm tăng 6,82%, gần đạt giai đoạn trước dịch. Tuy nhiên, các doanh nghiệp trong nước gặp khó khăn, gây ra tình trạng siêu nhập. Số doanh nghiệp rút khỏi thị trường tăng 21%, cho thấy nền kinh tế nội địa còn yếu và thiếu tính tự chủ.\n",
      "\n",
      "Thị trường tài chính, tiền tệ cơ bản ổn định; lãi suất cho vay bình quân đối với các giao dịch phát sinh mới của các ngân hàng thương mại tiếp tục có xu hướng giảm. Xuất nhập khẩu và đầu tư trực tiếp nước ngoài đạt mức tăng trưởng cao, là điểm sáng của kinh tế Việt Nam năm 2024.\n",
      "\n",
      "Tuy nhiên, vấn đề đấu thầu đất, giá đất nhảy múa rất kỳ lạ, chưa từng thấy… khiến người có nhu cầu mua nhà không tiếp cận được. Vấn đề này cần được giải quyết dứt điểm để người dân yên tâm.\n",
      "\n",
      "Cơ quan chủ quản đề xuất các chính sách để ngăn chặn và quản lý tình trạng đấu thầu đất nhảy múa. Đồng thời, cần có thước đo và chế tài về vấn đề này để thành công hơn nữa.\n",
      "\n",
      "Tổng quan, bài báo cho thấy rằng, mặc dù kinh tế Việt Nam đã đạt được nhiều kết quả quan trọng, nhưng vẫn còn nhiều khó khăn và bất cập. Cần có các biện pháp để nâng cao năng lực của doanh nghiệp trong nước, nỗ lực đạt được sự phục hồi vững chắc không lệ thuộc vào nước ngoài.\n",
      "\n",
      "Dự báo, tăng trưởng xuất khẩu đang chậm lại do đơn hàng quốc tế giảm từ tháng 9. Cùng với đó, tiêu dùng nội địa dù tăng 8,8%, nhưng phụ thuộc lớn vào chuyên ngành du lịch và không phản ánh sự tăng trưởng trong mua sắm của người dân.\n",
      "{'date': '2024-10-27', 'source': 'vutm.edu.vn', 'source_link': 'http://vutm.edu.vn/apk-20241026/vbet88.htm'} Bài báo này cho biết về tình hình thị trường chứng khoán Việt Nam và một số thông tin liên quan đến kinh tế vĩ mô. Dưới đây là tóm tắt của bài báo:\n",
      "\n",
      "- Thị trường chứng khoán Việt Nam đang trải qua một giai đoạn biến động mạnh, với số lượng tài khoản giao dịch chứng khoán tăng lên 7,4 triệu đơn vị. Tuy nhiên, số lượng tài khoản của nhà đầu tư cá nhân trong nước đã giảm đi 378.137 đơn vị, đây là điều chưa từng xảy ra trên thị trường chứng khoán Việt Nam.\n",
      "\n",
      "- Bà Rịa-Vũng Tàu vẫn chưa trả lời đơn của ông Nguyễn Văn Nếp về vấn đề liên quan đến PC 181/PC-TN ngày 20.4.2020.\n",
      "\n",
      "- Nhu cầu về bất động sản hàng hiệu ngày càng tăng, điều này có thể ảnh hưởng đến thị trường bất động sản và các công ty trong ngành.\n",
      "\n",
      "- Bảng giá bán lẻ xăng dầu của Petrolimex niêm yết tại các thị trường thuộc vùng 2 (xa cảng, xa kho...) như sau: xăng RON 95-V 25.180 đồng/lít, xăng RON 95-III 24.760 đồng/lít, xăng E5 RON92 23.670 đồng/lít, dầu diesel 21.460 - 22.070 đồng/lít, dầu hỏa 21.680 đồng/lít...\n",
      "\n",
      "- Có hai giả thuyết về nguồn gốc của trò chơi Oẳn tù tì: Quá trình thương lượng bắt đầu vào giữa tháng 4 và một đề xuất đã được đưa ra hồi đầu tháng 5 với sự cân nhắc lập trường khác nhau của các nước.\n",
      "\n",
      "Tổng quan, bài báo cho thấy thị trường chứng khoán Việt Nam đang trải qua một giai đoạn biến động mạnh, và có nhiều yếu tố kinh tế tác động đến thị trường. Người đọc cần lưu ý những thông tin này khi đưa ra quyết định đầu tư.\n",
      "{'date': '2024-10-27', 'source': '24hmoney.vn', 'source_link': 'https://24hmoney.vn/news/chung-khoan-tuan-28-10-1-11-lien-tuc-ep-ban-cuoi-phien-nhip-phuc-hoi-se-som-xuat-hien-c30a2418400.html'} Thị trường chứng khoán Việt Nam đang gặp khó khăn do lực bán chiếm ưu thế trên diện rộng, khiến tâm lý nhà đầu tư trở nên thận trọng. Chỉ số VN Index đã giảm 4 điểm trong phiên cuối tuần và đóng cửa ở mốc 1252 điểm, gần hỗ trợ MA200.\n",
      "\n",
      "Sự thiếu vắng động lực phục hồi và thanh khoản thấp cũng góp phần làm gia tăng áp lực cho chỉ số. Xu hướng bán ròng của khối ngoại vẫn chưa có dấu hiệu dừng lại, khiến thị trường tiếp tục gặp khó khăn.\n",
      "\n",
      "Tuy nhiên, chuyên gia dự báo rằng trong những phiên đầu tuần, VN Index có thể tiếp tục có nhiệp ép bán và quay trở về vùng 124x. Nhưng sau đó sẽ phục hồi và đi sideways biên độ lớn quanh 1250-1300.\n",
      "\n",
      "Để tận dụng cơ hội này, nhà đầu tư nên giữ tinh thần lạc quan và sử dụng chiến lược đầu tư hợp lý. Hạn chế sử dụng margin và lựa chọn cổ phiếu kỳ vọng có thể tăng giá trong giai đoạn này.\n",
      "{'date': '2024-10-27', 'source': '24hmoney.vn', 'source_link': 'https://24hmoney.vn/news/chung-khoan-tuan-toi-tu-28-10-den-1-11-thu-thach-su-kien-nhan-cua-nha-dau-tu-c1a2418518.html'} Thị trường chứng khoán Việt Nam đang trải qua giai đoạn suy yếu rõ rệt khi lực cầu không đủ mạnh đối trọng với áp lực bán ra ngày càng lớn. Theo báo Người Lao Động, trong tuần tới, VN-Index có thể sẽ có lực cầu bắt đáy với cổ phiếu tốt và các công ty có hiệu suất kinh doanh ổn định.\n",
      "{'date': '2024-10-27', 'source': 'cafef.vn', 'source_link': 'https://cafef.vn/chung-khoan-tuan-toi-tu-28-10-den-1-11-thu-thach-su-kien-nhan-cua-nha-dau-tu-188241027152438659.chn'} Thị trường chứng khoán Việt Nam đang trải qua giai đoạn suy yếu rõ rệt khi lực cầu không đủ mạnh đối trọng với áp lực bán ra ngày càng lớn. Theo báo Người Lao Động, VN-Index giảm 32,74 điểm (-2,55%) trong phiên giao dịch tuần qua, lùi về 1.252,72 điểm. Khối ngoại tiếp tục bán ròng hơn 1.000 tỉ đồng tập trung vào HPG, MSN, STB.\n",
      "\n",
      "Thị trường đang trải qua giai đoạn suy yếu rõ rệt khi lực cầu không đủ mạnh đối trọng với áp lực bán ra ngày càng lớn. Sự ảm đạm của thị trường đã tác động tiêu cực đến tâm lý nhà đầu tư, thanh khoản giảm sút.\n",
      "\n",
      "Tuy nhiên, chuyên gia kỳ vọng thị trường sớm có lực cầu bắt đáy với cổ phiếu tốt. Các ngành như công nghệ thông tin, bất động sản và tài chính được dự báo sẽ là điểm sáng trong tuần tới.\n",
      "\n",
      "Ngân hàng là ngành kéo chỉ số thị trường đi xuống mạnh nhất với những cái tên cổ phiếu giảm khá mạnh như BID, CTG, TCB. Tổng giá trị giao dịch khớp lệnh của VN-Index đạt 70.409 tỉ đồng, giảm nhẹ so với tuần trước.\n",
      "\n",
      "Khối ngoại tiếp tục bán ròng hơn 1.000 tỉ đồng tập trung vào HPG, MSN, STB. Thị trường đang cần một lực cầu mạnh mẽ để bắt đáy và phục hồi.\n",
      "{'date': '2024-10-27', 'source': 'nld.com.vn', 'source_link': 'https://nld.com.vn/chung-khoan-tuan-toi-tu-28-10-den-1-11-thu-thach-su-kien-nhan-cua-nha-dau-tu-1962410271318379.htm'} Thị trường chứng khoán Việt Nam đang trải qua giai đoạn suy yếu rõ rệt khi lực cầu không đủ mạnh đối trọng với áp lực bán ra ngày càng lớn. Theo báo Người Lao Động, VN-Index giảm 32,74 điểm (-2,55%) trong phiên giao dịch tuần qua, lùi về 1.252,72 điểm. Khối ngoại tiếp tục bán ròng hơn 1.000 tỉ đồng tập trung vào HPG, MSN, STB.\n",
      "\n",
      "Thị trường đang trải qua giai đoạn suy yếu rõ rệt khi lực cầu không đủ mạnh đối trọng với áp lực bán ra ngày càng lớn. Sự ảm đạm của thị trường đã tác động tiêu cực đến tâm lý nhà đầu tư, thanh khoản giảm sút.\n",
      "\n",
      "Tuy nhiên, chuyên gia kỳ vọng thị trường sớm có lực cầu bắt đáy với cổ phiếu tốt. Các ngành như công nghệ thông tin, bất động sản và tài chính được dự báo sẽ là điểm sáng trong tuần tới.\n",
      "\n",
      "Ngân hàng là ngành kéo chỉ số thị trường đi xuống mạnh nhất với những cái tên cổ phiếu giảm khá mạnh như BID, CTG, TCB. Tổng giá trị giao dịch khớp lệnh của VN-Index đạt 70.409 tỉ đồng, giảm nhẹ so với tuần trước.\n",
      "\n",
      "Khối ngoại tiếp tục bán ròng hơn 1.000 tỉ đồng tập trung vào HPG, MSN, STB. Thị trường đang cần lực cầu mạnh mẽ để bắt đáy và phục hồi.\n",
      "{'date': '2024-10-27', 'source': 'baomoi.com', 'source_link': 'https://baomoi.com/tan-dung-cac-phien-hoi-phuc-de-ha-ty-trong-ve-muc-thap-han-che-viec-bat-day-som-c50564579.epi'} Thị trường chứng khoán Việt Nam trong tuần qua đã trải qua giai đoạn suy yếu rõ rệt, với lực cầu không đủ mạnh để đối trọng với áp lực bán ra ngày càng lớn. Chỉ số VN-Index đã giảm -2,55% về mức 1.252,72 điểm.\n",
      "\n",
      "Các nhóm ngành như ngân hàng, chứng khoán, hàng tiêu dùng và bất động sản khu công nghiệp đã bị ảnh hưởng nặng nề bởi tình hình kinh tế toàn cầu và nội địa. Trong khi đó, nhóm ngành hàng không là một trong những nhóm duy nhất có thể chống lại đà giảm của thị trường.\n",
      "\n",
      "Thanh khoản giao dịch trên sàn HSX cũng đã giảmลง, do đó nhà đầu tư cần phải quản trị rủi ro cẩn trọng và theo sát diễn biến thị trường để đưa ra quyết định mua bán hợp lý.\n",
      "\n",
      "Tổng quan, thị trường chứng khoán Việt Nam trong tuần qua đã có những dấu hiệu cho thấy sự suy yếu của thị trường. Tuy nhiên, các công ty chứng khoán vẫn duy trì quan điểm tích cực về triển vọng thị trường trung và dài hạn, tập trung vào các cổ phiếu có nền tảng tốt và kết quả kinh doanh quý 3 tích cực.\n",
      "\n",
      "Nhà đầu tư nên quản trị danh mục cẩn trọng và theo sát diễn biến tỷ giá và các động thái của Ngân hàng Nhà nước trong thời gian tới để đánh giá liệu thị trường sẽ tiếp tục điều chỉnh hay sẽ có nhịp hồi trong ngắn hạn.\n",
      "{'date': '2024-10-27', 'source': '24hmoney.vn', 'source_link': 'https://24hmoney.vn/news/phan-tich-ky-thuat-chung-khoan-viet-nam-tuan-28-10-01-11-2024-c1a2418306.html'} Trong phiên giao dịch ngày 25/10/2024, thị trường chứng khoán Việt Nam đã gặp khó khăn với VN-Index giảm điểm đồng thời xuất hiện mẫu hình nến gần giống Black Marubozu và tiếp tục bám sát dải dưới (Lower Band) của Bollinger Bands. Điều này cho thấy triển vọng ngắn hạn vẫn khá bi quan.\n",
      "\n",
      "Ngoài ra, chỉ số đã phá vỡ xuống neckline của mẫu hình Double Top trong bối cảnh MACD tiếp tục hướng đi xuống và nằm dưới mức 0 sau khi cho tín hiệu bán. Khả năng cao kịch bản điều chỉnh sẽ tiếp diễn và mục tiêu giá (price target) tiềm năng cho VN-Index là vùng 1,220-1,235 điểm.\n",
      "\n",
      "Còn với HNX-Index, phiên giao dịch ngày 25/10/2024 cũng gặp khó khăn với chỉ số giảm điểm nhẹ đồng thời xuất hiện mẫu hình nến gần giống Doji cùng khối lượng giao dịch nằm dưới mức trung bình 20 phiên cho thấy tâm lý phân vân của nhà đầu tư đang hiện hữu.\n",
      "\n",
      "Mặt khác, chỉ báo Stochastic Oscillator đã tiến sâu vào vùng quá bán (oversold) và đang test đáy cũ tháng 4 và 8/2024. Nếu chỉ báo cho tín hiệu mua và vượt lên khỏi vùng này thì khả năng phục hồi của HNX-Index trong thời gian tới sẽ quay lại.\n",
      "\n",
      "Dòng tiền cũng cho thấy biến động của dòng tiền thông minh: Chỉ báo Negative Volume Index của VN-Index cắt xuống đường EMA 20 ngày. Nếu trạng thái này tiếp tục trong phiên tới thì rủi ro sụt giảm bất ngờ (thrust down) sẽ tăng cao.\n",
      "\n",
      "Về khối ngoại, họ đã tiếp tục bán ròng trong phiên giao dịch ngày 25/10/2024. Nếu nhà đầu tư nước ngoài duy trì hành động này trong những phiên tới thì tình hình sẽ càng bi quan hơn.\n",
      "\n",
      "Tóm lại, thị trường chứng khoán Việt Nam hiện đang gặp khó khăn với triển vọng ngắn hạn vẫn khá bi quan. Khả năng kịch bản điều chỉnh tiếp diễn và mục tiêu giá tiềm năng cho VN-Index là vùng 1,220-1,235 điểm.\n",
      "{'date': '2024-10-27', 'source': 'vietstock.vn', 'source_link': 'https://vietstock.vn/2024/10/phan-tich-ky-thuat-chung-khoan-viet-nam-tuan-2810-01112024-585-1240243.htm'} Bài báo phân tích thị trường chứng khoán Việt Nam trong tuần từ 28/10-01/11/2024, với các số liệu chính sau:\n",
      "\n",
      "*   VN-Index giảm điểm và phá vỡ xuống neckline của mẫu hình Double Top, chỉ báo MACD tiếp tục hướng đi xuống và nằm dưới mức 0 sau khi cho tín hiệu bán. Mục tiêu giá tiềm năng cho VN-Index là vùng 1,220-1,235 điểm.\n",
      "*   HNX-Index giảm nhẹ và xuất hiện mẫu hình nến gần giống Doji, khối lượng giao dịch nằm dưới mức trung bình 20 phiên cho thấy tâm lý phân vân của nhà đầu tư đang hiện hữu. Chỉ báo Stochastic Oscillator đã tiến sâu vào vùng quá bán (oversold).\n",
      "*   Biến động của dòng tiền thông minh: Chỉ báo Negative Volume Index của VN-Index cắt xuống đường EMA 20 ngày, nếu trạng thái này tiếp tục trong phiên tới thì rủi ro sụt giảm bất ngờ (thrust down) sẽ tăng cao.\n",
      "*   Biến động của dòng tiền từ khối ngoại: Khối ngoại tiếp tục bán ròng trong phiên giao dịch ngày 25/10/2024.\n",
      "{'date': '2024-10-27', 'source': 'vietstock.vn', 'source_link': 'https://vietstock.vn/2024/10/vietstock-weekly-2810-01112024-quan-tinh-giam-diem-van-con-1636-1240242.htm'} Thị trường chứng khoán Việt Nam đã có một tuần kết thúc với xu hướng giảm điểm mạnh, với sự xuất hiện của mẫu hình nến Black Marubozu và cắt xuống đường Middle của Bollinger Bands. Điều này cho thấy tình hình ngày càng trở nên bi quan.\n",
      "\n",
      "Trong tuần qua, VN-Index đã giảm điểm mạnh, với chỉ số này đạt mức 1,215 điểm. Khối lượng giao dịch cũng duy trì dưới mức trung bình 20 ngày, cho thấy tâm lý thận trọng của nhà đầu tư tiếp tục gia tăng.\n",
      "\n",
      "Phân tích kỹ thuật cho thấy, trong phiên giao dịch ngày 25/10/2024, VN-Index đã phá vỡ xuống neckline của mẫu hình Double Top, và chỉ báo MACD tiếp tục đi xuống sau khi cho tín hiệu bán. Điều này cho thấy rủi ro điều chỉnh trong ngắn hạn vẫn còn.\n",
      "\n",
      "Về HNX-Index, chỉ số đã giảm điểm nhẹ trong phiên giao dịch ngày 25/10/2024, và xuất hiện mẫu hình nến Doji cùng khối lượng giao dịch nằm dưới mức trung bình 20 phiên. Mặt khác, chỉ báo Stochastic Oscillator đã tiến sâu vào vùng quá bán, cho thấy khả năng phục hồi của HNX-Index trong thời gian tới sẽ quay lại nếu chỉ báo cho tín hiệu mua và vượt lên khỏi vùng này.\n",
      "\n",
      "Dòng tiền cũng cho thấy biến động của dòng tiền thông minh, với chỉ báo Negative Volume Index của VN-Index cắt xuống đường EMA 20 ngày. Nếu trạng thái này tiếp tục trong phiên tới thì rủi ro sụt giảm bất ngờ (thrust down) sẽ tăng cao.\n",
      "\n",
      "Tóm lại, thị trường chứng khoán Việt Nam đang có xu hướng giảm điểm mạnh, và rủi ro điều chỉnh trong ngắn hạn vẫn còn. Nhà đầu tư cần phải cẩn thận và theo dõi sát sao các tín hiệu kỹ thuật và dòng tiền để đưa ra quyết định đầu tư thông minh.\n"
     ]
    }
   ],
   "source": [
    "results = vector_store.similarity_search(\"tình hình kinh tê hà nội\", k=10)\n",
    "for res in results:\n",
    "    print(res.metadata, res.page_content)"
   ]
  }
 ],
 "metadata": {
  "kernelspec": {
   "display_name": "8am_chat",
   "language": "python",
   "name": "python3"
  },
  "language_info": {
   "codemirror_mode": {
    "name": "ipython",
    "version": 3
   },
   "file_extension": ".py",
   "mimetype": "text/x-python",
   "name": "python",
   "nbconvert_exporter": "python",
   "pygments_lexer": "ipython3",
   "version": "3.10.15"
  }
 },
 "nbformat": 4,
 "nbformat_minor": 2
}
